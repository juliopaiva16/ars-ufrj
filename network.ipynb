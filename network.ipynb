{
 "cells": [
  {
   "cell_type": "code",
   "execution_count": 1,
   "metadata": {},
   "outputs": [],
   "source": [
    "import os\n",
    "import pandas as pd\n",
    "import re\n",
    "import numpy as np\n",
    "from pylab import rcParams\n",
    "import networkx as nx\n",
    "import matplotlib.pyplot as plt"
   ]
  },
  {
   "cell_type": "code",
   "execution_count": 2,
   "metadata": {},
   "outputs": [],
   "source": [
    "# Hash map de artistas\n",
    "artistas = {}\n",
    "plays = {}\n",
    "\n",
    "file_list = []\n",
    "playlists_in_query_list = []\n",
    "# Listar todos os arquivos nos diretórios 'parquets/*/queries/*/pre_proc_tracks*\n",
    "for files in os.walk('parquets'):\n",
    "    for file in files[2]:\n",
    "        if 'pre_proc_tracks' in file:\n",
    "            file_list.append(files[0] + '/' + file)\n",
    "        if 'playlists.parquet' in file:\n",
    "            playlists_in_query_list.append(files[0] + '/' + file)\n",
    "\n",
    "# Concatenar todos os parquets de playlists em queries em um único dataframe\n",
    "# a coluna 'id' é o index\n",
    "playlists = pd.concat([pd.read_parquet(file) for file in playlists_in_query_list], ignore_index=True)\n",
    "playlists.set_index('id', inplace=True)\n",
    "\n",
    "j = 0\n",
    "# Para cada arquivo, abrir um parquet como pandas\n",
    "for file in file_list:\n",
    "    j += 1\n",
    "    if j > 300:\n",
    "        break\n",
    "    df = pd.read_parquet(file)\n",
    "    # O id da playlist é retirado pelo Regex 'pre_proc_tracks_(\\d+).parquet'\n",
    "    regex = 'pre_proc_tracks_(.+).parquet'\n",
    "    id_playlist = re.search(regex, file).group(1)\n",
    "    plays[id_playlist] = []\n",
    "    # Em uma lista de diciionários, cada dicionário é um artista, com id e nome\n",
    "    if 'artistas' not in df.columns:\n",
    "        continue\n",
    "    i = 0\n",
    "    for track_artists in df['artistas']:\n",
    "        i += 1\n",
    "        # if (i > 100):\n",
    "        #     break\n",
    "        for artist in track_artists:\n",
    "            if artist == None:\n",
    "                continue\n",
    "            if artist['id'] not in artistas:\n",
    "                artistas[artist['id']] = artist['nome']\n",
    "            if artist['id'] not in plays[id_playlist]:\n",
    "                plays[id_playlist].append(artist['id'])"
   ]
  },
  {
   "cell_type": "code",
   "execution_count": 3,
   "metadata": {},
   "outputs": [
    {
     "name": "stdout",
     "output_type": "stream",
     "text": [
      "Quantidade de artistas: 4601\n",
      "Quantidade de playlists: 300\n"
     ]
    }
   ],
   "source": [
    "print('Quantidade de artistas:', len(artistas))\n",
    "print('Quantidade de playlists:', len(plays))"
   ]
  },
  {
   "cell_type": "code",
   "execution_count": 4,
   "metadata": {},
   "outputs": [],
   "source": [
    "# # Lista de IDs únicos em artistas['id']\n",
    "# unique_ids = artistas.keys()\n",
    "# \n",
    "# # Cria uma matriz de adjacências completa de 0s\n",
    "# matrix = pd.DataFrame(0, index=unique_ids, columns=unique_ids)\n"
   ]
  },
  {
   "cell_type": "code",
   "execution_count": 5,
   "metadata": {},
   "outputs": [],
   "source": [
    "# for play in plays:\n",
    "#     print('Computando playlist', play, '...')\n",
    "#     # Cria uma lista de todos os artistas únicos\n",
    "#     artists = plays[play]\n",
    "# \n",
    "#     # Se não tem ao menos 20 artistas, ignora\n",
    "#     if len(artists) < 20:\n",
    "#         continue\n",
    "# \n",
    "#     for artist in artists:\n",
    "#         for artist2 in artists:\n",
    "#             if artist != artist2:\n",
    "#                 matrix.at[artist, artist2] += 1"
   ]
  },
  {
   "cell_type": "code",
   "execution_count": 18,
   "metadata": {},
   "outputs": [],
   "source": [
    "G = nx.Graph()\n",
    "\n",
    "# Cria nós do tipo playlist\n",
    "for play in plays:\n",
    "    # Nós do tipo playlist tem o nome da playlist e o dono como atributos\n",
    "    name = playlists.loc[play]['name'] if play in playlists.index else 'Playlist ' + play\n",
    "    owner = playlists.loc[play]['owner'] if play in playlists.index else 'Unknown'\n",
    "    if play not in G.nodes:\n",
    "        # G.add_node(play, name=name, owner=owner, type='playlist')\n",
    "        G.add_node(play, type='playlist')\n",
    "\n",
    "# Cria nós do tipo artista e arestas entre playlists e artistas\n",
    "for play in plays:\n",
    "    artists = plays[play]\n",
    "    for artist in artists:\n",
    "        # Nós do tipo artista tem o nome do artista como atributo\n",
    "        if artist not in G.nodes:\n",
    "            # G.add_node(artist, name=name, type='artist')\n",
    "            G.add_node(artist, type='artist')\n",
    "            G.add_edge(play, artist, type='playlist_artist')\n",
    "\n",
    "# Cria arestas entre playlists se compartilham artistas\n",
    "for play in plays:\n",
    "    for play2 in plays:\n",
    "        if play != play2:\n",
    "            artists = plays[play]\n",
    "            artists2 = plays[play2]\n",
    "            common_artists = set(artists).intersection(set(artists2))\n",
    "            G.add_edge(play, play2, type='playlist_playlist')\n",
    "\n",
    "artists_to_remove = [artist for artist in G.nodes if G.nodes[artist]['type'] == 'artist' and len(list(G.neighbors(artist))) > 1]\n",
    "G.remove_nodes_from(artists_to_remove)\n",
    "\n",
    "playlists_to_remove = [play for play in G.nodes if G.nodes[play]['type'] == 'playlist' and len(list(G.neighbors(play))) == 0]\n",
    "G.remove_nodes_from(playlists_to_remove)\n",
    "\n",
    "# Arestas\n",
    "edges = G.edges\n",
    "\n",
    "# Exportart para Gephi\n",
    "nx.write_gexf(G, 'artists_at_oneonly_one_play.gexf')"
   ]
  },
  {
   "cell_type": "code",
   "execution_count": 7,
   "metadata": {},
   "outputs": [],
   "source": [
    "# # Tamanho da figura\n",
    "# rcParams['figure.figsize'] = 20, 20\n",
    "# \n",
    "# # Posicionamento dos nós\n",
    "# pos = nx.spring_layout(G, scale=5000*G.order(), k=5/np.sqrt(G.order()), dim=2)\n",
    "# \n",
    "# # Desenhar nós com o tamanho dos nós de playlist de acordo com o grau\n",
    "# node_sizes = [G.degree(node) for node in G.nodes]\n",
    "# nx.draw_networkx_nodes(G, pos, nodelist=playlist_nodes, node_color='blue' , node_size=node_sizes, alpha=0.5)\n",
    "# nx.draw_networkx_nodes(G, pos, nodelist=artist_nodes, node_color='red', node_size=2)\n",
    "# \n",
    "# # Desenhar arestas\n",
    "# nx.draw_networkx_edges(G, pos, edgelist=edges, edge_color='black', width=0.1)\n",
    "# \n",
    "# plt.show()"
   ]
  },
  {
   "cell_type": "code",
   "execution_count": 8,
   "metadata": {},
   "outputs": [],
   "source": [
    "\n",
    "# rcParams['figure.figsize'] = 14, 10\n",
    "# pos = nx.spring_layout(G, scale=100000*G.order(), k=10/np.sqrt(G.order()))\n",
    "# d = dict(G.degree)\n",
    "# options = {\n",
    "#     \"node_color\": \"#A0CBE2\",\n",
    "#     \"width\": 0.1,\n",
    "#     \"edge_cmap\": plt.cm.Blues,\n",
    "#     \"with_labels\": False,\n",
    "#     \"nodelist\": d, \n",
    "#     \"node_size\": [d[k] for k in d]\n",
    "# }\n",
    "# nx.draw(G, pos, **options)"
   ]
  },
  {
   "cell_type": "markdown",
   "metadata": {},
   "source": []
  }
 ],
 "metadata": {
  "kernelspec": {
   "display_name": "trab",
   "language": "python",
   "name": "python3"
  },
  "language_info": {
   "codemirror_mode": {
    "name": "ipython",
    "version": 3
   },
   "file_extension": ".py",
   "mimetype": "text/x-python",
   "name": "python",
   "nbconvert_exporter": "python",
   "pygments_lexer": "ipython3",
   "version": "3.12.3"
  }
 },
 "nbformat": 4,
 "nbformat_minor": 2
}
